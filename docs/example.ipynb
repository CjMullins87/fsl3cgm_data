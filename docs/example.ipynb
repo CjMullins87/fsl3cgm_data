{
 "cells": [
  {
   "cell_type": "markdown",
   "metadata": {},
   "source": [
    "# Getting your credentials\n",
    "\n",
    "If you haven't gotten important information - your auth token and your patientID - you can use API components to fetch these and then write them to the preferred storage location."
   ]
  },
  {
   "cell_type": "code",
   "execution_count": null,
   "metadata": {},
   "outputs": [],
   "source": [
    "from fsl3cgm.creds import Creds\n",
    "from fsl3cgm.freestyle import FreeStyleAPI\n",
    "\n",
    "fs = FreeStyleAPI(creds=Creds(user_email=\"email here\", password=\"Password here\"))\n",
    "\n",
    "# You'll have to go in this order, because fetching a patient id requires a valid auth token\n",
    "fs.get_auth_token()\n",
    "fs.get_patient_id()\n",
    "\n",
    "# Then, you should be able to save your credentials locally\n",
    "fs.creds.write_fsl3_credentials_json()"
   ]
  },
  {
   "cell_type": "markdown",
   "metadata": {},
   "source": [
    "Alternatively, assuming your credentials are already fully filled out and locally available,\n",
    "you can load them into the API like below."
   ]
  },
  {
   "cell_type": "code",
   "execution_count": null,
   "metadata": {},
   "outputs": [],
   "source": [
    "from fsl3cgm.creds import Creds\n",
    "from fsl3cgm.freestyle import FreeStyleAPI\n",
    "\n",
    "# Create an empty Creds object, then read in the local data\n",
    "creds = Creds()\n",
    "creds.read_fsl3_credentials_json()\n",
    "\n",
    "# Then pass this to the API handler\n",
    "fs = FreeStyleAPI(creds=creds)"
   ]
  },
  {
   "cell_type": "markdown",
   "metadata": {},
   "source": [
    "# Getting your data\n",
    "\n",
    "Once you've fully set up your credentials, you should be able to call your data pretty easily:"
   ]
  },
  {
   "cell_type": "code",
   "execution_count": null,
   "metadata": {},
   "outputs": [],
   "source": [
    "from fsl3cgm.creds import Creds\n",
    "from fsl3cgm.freestyle import FreeStyleAPI\n",
    "\n",
    "# Before you can get graph data, you have to supply credentials\n",
    "creds = Creds()\n",
    "creds.read_fsl3_credentials_json()\n",
    "fs = FreeStyleAPI(creds=creds)\n",
    "\n",
    "# This should return the last twelve hours worth of history\n",
    "fs.get_graph_data()"
   ]
  },
  {
   "cell_type": "markdown",
   "metadata": {},
   "source": [
    "If you aren't yet aware of the structure of this data, it'll return a `list[dict]` object\n",
    "where each `dict` contains a reading that was reported to the LibreLinkUp API. These dictionaries\n",
    "are structured like this:"
   ]
  },
  {
   "cell_type": "code",
   "execution_count": null,
   "metadata": {},
   "outputs": [],
   "source": [
    "{'FactoryTimestamp': '11/22/2023 4:44:27 PM',\n",
    "  'Timestamp': '11/22/2023 10:44:27 AM',\n",
    "  'type': 0,\n",
    "  'ValueInMgPerDl': 100,\n",
    "  'MeasurementColor': 1,\n",
    "  'GlucoseUnits': 1,\n",
    "  'Value': 100,\n",
    "  'isHigh': False,\n",
    "  'isLow': False}"
   ]
  }
 ],
 "metadata": {
  "kernelspec": {
   "display_name": "fsl3cgm",
   "language": "python",
   "name": "python3"
  },
  "language_info": {
   "codemirror_mode": {
    "name": "ipython",
    "version": 3
   },
   "file_extension": ".py",
   "mimetype": "text/x-python",
   "name": "python",
   "nbconvert_exporter": "python",
   "pygments_lexer": "ipython3",
   "version": "3.11.5"
  }
 },
 "nbformat": 4,
 "nbformat_minor": 2
}
